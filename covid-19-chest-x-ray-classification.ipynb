{
 "cells": [
  {
   "cell_type": "markdown",
   "execution_count": null,
   "metadata": {
    "papermill": {
     "duration": 0.010197,
     "end_time": "2020-09-08T02:40:55.241072",
     "exception": false,
     "start_time": "2020-09-08T02:40:55.230875",
     "status": "completed"
    },
    "tags": []
   },
   "source": [
    "This notebook is intended to serve as an introduction to transfer learning as a method of classifying chest x-rays into 3 categories (COVID-19, viral pneumonia, normal). The goal here is to introduce the concept of deep learning as a way to classify chest x-rays and in particular for patients with COVID-19. The models produced here are not intended to substitute for an impression given by an expert radiologist. Rather it may serve as a foundation for those who are interested in applications of deep learning in medicine for triaging, diagnosis, prognosis, and treatment.\n",
    "\n",
    "It should be noted that there are many limitations associated with such a model, including using only 3 classes of CXRs. It is also impossible to accurately predict the distribution of CXRs that you will obtain in a real clinical setting. \n",
    "\n",
    "The dataset we are using is the Covid-19 Radiography Database which is publically available on Kaggle at this url, https://www.kaggle.com/tawsifurrahman/covid19-radiography-database. Please refer to this url for details regarding the dataset. The following reference is provided to give credit to the team responsible for organizing the dataset.\n",
    "\n",
    "M.E.H. Chowdhury, T. Rahman, A. Khandakar, R. Mazhar, M.A. Kadir, Z.B. Mahbub, K.R. Islam, M.S. Khan, A. Iqbal, N. Al-Emadi, M.B.I. Reaz, “Can AI help in screening Viral and COVID-19 pneumonia?” arXiv preprint, 29 March 2020, https://arxiv.org/abs/2003.13145. https://www.kaggle.com/tawsifurrahman/covid19-radiography-database\n",
    "\n",
    "It should be noted that some of the normal and viral pneumonia chest x-ray images are obtained from existing datasets on Kaggle."
   ]
  },
  {
   "cell_type": "markdown",
   "execution_count": null,
   "metadata": {
    "papermill": {
     "duration": 0.009516,
     "end_time": "2020-09-08T02:40:55.259298",
     "exception": false,
     "start_time": "2020-09-08T02:40:55.249782",
     "status": "completed"
    },
    "tags": []
   },
   "source": [
    "Please feel free to share this notebook as you like, and give me credit if you do so. If you like what you see here, you can check out my Kaggle profile. You can also follow me on Twitter [@leoyuguanall38](https://twitter.com/leoyuguanall38). Please also check out my [GitHub profile](https://github.com/leoyuguanall38)."
   ]
  },
  {
   "cell_type": "markdown",
   "execution_count": null,
   "metadata": {
    "papermill": {
     "duration": 0.008244,
     "end_time": "2020-09-08T02:40:55.276139",
     "exception": false,
     "start_time": "2020-09-08T02:40:55.267895",
     "status": "completed"
    },
    "tags": []
   },
   "source": [
    "Let's start with imports:"
   ]
  },
  {
   "cell_type": "code",
   "execution_count": 1,
   "metadata": {
    "_cell_guid": "b1076dfc-b9ad-4769-8c92-a6c4dae69d19",
    "_uuid": "8f2839f25d086af736a60e9eeb907d3b93b6e0e5",
    "execution": {
     "iopub.execute_input": "2020-09-08T02:40:55.302410Z",
     "iopub.status.busy": "2020-09-08T02:40:55.301709Z",
     "iopub.status.idle": "2020-09-08T02:41:01.434795Z",
     "shell.execute_reply": "2020-09-08T02:41:01.433726Z"
    },
    "papermill": {
     "duration": 6.150484,
     "end_time": "2020-09-08T02:41:01.434925",
     "exception": false,
     "start_time": "2020-09-08T02:40:55.284441",
     "status": "completed"
    },
    "tags": []
   },
   "outputs": [],
   "source": [
    "import os\n",
    "import cv2\n",
    "\n",
    "import numpy as np\n",
    "import pandas as pd\n",
    "import seaborn as sns\n",
    "import matplotlib.pyplot as plt\n",
    "import sklearn.metrics as metrics\n",
    "\n",
    "from sklearn.model_selection import train_test_split\n",
    "from sklearn.preprocessing import LabelEncoder\n",
    "from sklearn.metrics import confusion_matrix, classification_report\n",
    "\n",
    "from keras.utils import np_utils\n",
    "\n",
    "from tensorflow.keras.models import Model\n",
    "from tensorflow.keras.models import Sequential\n",
    "from tensorflow.keras.optimizers import Adam\n",
    "from tensorflow.keras.utils import to_categorical\n",
    "from tensorflow.keras.preprocessing.image import ImageDataGenerator\n",
    "from tensorflow.keras.applications import VGG16, ResNet101, Xception\n",
    "from tensorflow.keras.layers import Input, Dense, Flatten, MaxPooling2D, GlobalAveragePooling2D, Dropout, BatchNormalization, Conv2D, InputLayer"
   ]
  },
  {
   "cell_type": "markdown",
   "execution_count": null,
   "metadata": {
    "papermill": {
     "duration": 0.008837,
     "end_time": "2020-09-08T02:41:01.453088",
     "exception": false,
     "start_time": "2020-09-08T02:41:01.444251",
     "status": "completed"
    },
    "tags": []
   },
   "source": [
    "Set constants and hyperparameter values:"
   ]
  },
  {
   "cell_type": "code",
   "execution_count": 2,
   "metadata": {
    "execution": {
     "iopub.execute_input": "2020-09-08T02:41:01.475558Z",
     "iopub.status.busy": "2020-09-08T02:41:01.474680Z",
     "iopub.status.idle": "2020-09-08T02:41:01.477467Z",
     "shell.execute_reply": "2020-09-08T02:41:01.477931Z"
    },
    "papermill": {
     "duration": 0.016461,
     "end_time": "2020-09-08T02:41:01.478075",
     "exception": false,
     "start_time": "2020-09-08T02:41:01.461614",
     "status": "completed"
    },
    "tags": []
   },
   "outputs": [],
   "source": [
    "LR = 0.0001\n",
    "EPOCHS = 7\n",
    "BATCH_SIZE = 32\n",
    "IMG_SIZE = 224"
   ]
  },
  {
   "cell_type": "markdown",
   "execution_count": null,
   "metadata": {
    "papermill": {
     "duration": 0.008623,
     "end_time": "2020-09-08T02:41:01.495214",
     "exception": false,
     "start_time": "2020-09-08T02:41:01.486591",
     "status": "completed"
    },
    "tags": []
   },
   "source": [
    "Obtain list of image paths. Last line is to verify number of image paths obtained matches number of expected images for our dataset."
   ]
  },
  {
   "cell_type": "code",
   "execution_count": 3,
   "metadata": {
    "_cell_guid": "79c7e3d0-c299-4dcb-8224-4455121ee9b0",
    "_uuid": "d629ff2d2480ee46fbb7e2d37f6b5fab8052498a",
    "execution": {
     "iopub.execute_input": "2020-09-08T02:41:01.518485Z",
     "iopub.status.busy": "2020-09-08T02:41:01.517849Z",
     "iopub.status.idle": "2020-09-08T02:41:01.888126Z",
     "shell.execute_reply": "2020-09-08T02:41:01.889058Z"
    },
    "papermill": {
     "duration": 0.385664,
     "end_time": "2020-09-08T02:41:01.889245",
     "exception": false,
     "start_time": "2020-09-08T02:41:01.503581",
     "status": "completed"
    },
    "tags": []
   },
   "outputs": [
    {
     "data": {
      "text/plain": [
       "True"
      ]
     },
     "execution_count": 3,
     "metadata": {},
     "output_type": "execute_result"
    }
   ],
   "source": [
    "imagePaths = []\n",
    "\n",
    "for dirname, _, filenames in os.walk('/kaggle/input/covid19-radiography-database/COVID-19 Radiography Database/'):\n",
    "    for filename in filenames:\n",
    "        if (filename[-3:] == 'png'):\n",
    "            imagePaths.append(os.path.join(dirname, filename))\n",
    "\n",
    "#Should return true for our dataset.\n",
    "len(imagePaths) == 219+1341+1345"
   ]
  },
  {
   "cell_type": "markdown",
   "execution_count": null,
   "metadata": {
    "papermill": {
     "duration": 0.012277,
     "end_time": "2020-09-08T02:41:01.915060",
     "exception": false,
     "start_time": "2020-09-08T02:41:01.902783",
     "status": "completed"
    },
    "tags": []
   },
   "source": [
    "Use the following code to view sample images from the dataset."
   ]
  },
  {
   "cell_type": "code",
   "execution_count": 4,
   "metadata": {
    "execution": {
     "iopub.execute_input": "2020-09-08T02:41:01.945597Z",
     "iopub.status.busy": "2020-09-08T02:41:01.944936Z",
     "iopub.status.idle": "2020-09-08T02:41:02.481689Z",
     "shell.execute_reply": "2020-09-08T02:41:02.482846Z"
    },
    "papermill": {
     "duration": 0.555366,
     "end_time": "2020-09-08T02:41:02.483023",
     "exception": false,
     "start_time": "2020-09-08T02:41:01.927657",
     "status": "completed"
    },
    "tags": []
   },
   "outputs": [
    {
     "name": "stdout",
     "output_type": "stream",
     "text": [
      "/kaggle/input/covid19-radiography-database/COVID-19 Radiography Database/COVID-19/COVID-19 (100).png\n",
      "(1024, 1024, 3)\n"
     ]
    },
    {
     "data": {
      "image/png": "[encoded data removed]",
      "text/plain": [
       "<Figure size 432x288 with 1 Axes>"
      ]
     },
     "metadata": {
      "needs_background": "light"
     },
     "output_type": "display_data"
    }
   ],
   "source": [
    "print(imagePaths[66])\n",
    "\n",
    "image = cv2.imread(imagePaths[0])\n",
    "print(image.shape)\n",
    "\n",
    "plt.imshow(image)\n",
    "plt.show()"
   ]
  },
  {
   "cell_type": "markdown",
   "execution_count": null,
   "metadata": {
    "papermill": {
     "duration": 0.014344,
     "end_time": "2020-09-08T02:41:02.512408",
     "exception": false,
     "start_time": "2020-09-08T02:41:02.498064",
     "status": "completed"
    },
    "tags": []
   },
   "source": [
    "Use the following code to convert list of image paths to ndarrays containing image data and labels."
   ]
  },
  {
   "cell_type": "code",
   "execution_count": 5,
   "metadata": {
    "execution": {
     "iopub.execute_input": "2020-09-08T02:41:02.554760Z",
     "iopub.status.busy": "2020-09-08T02:41:02.553351Z",
     "iopub.status.idle": "2020-09-08T02:42:06.304905Z",
     "shell.execute_reply": "2020-09-08T02:42:06.305676Z"
    },
    "papermill": {
     "duration": 63.778864,
     "end_time": "2020-09-08T02:42:06.305830",
     "exception": false,
     "start_time": "2020-09-08T02:41:02.526966",
     "status": "completed"
    },
    "tags": []
   },
   "outputs": [
    {
     "name": "stdout",
     "output_type": "stream",
     "text": [
      "<class 'numpy.ndarray'> <class 'numpy.ndarray'> \n",
      "\n",
      "(2905, 224, 224, 3) (2905,)\n"
     ]
    }
   ],
   "source": [
    "X = []\n",
    "y = []\n",
    "\n",
    "for img_path in imagePaths:\n",
    "    label = img_path.split(os.path.sep)[-2]\n",
    "    \n",
    "    img = cv2.imread(img_path)\n",
    "    img = cv2.cvtColor(img, cv2.COLOR_BGR2RGB)\n",
    "    img = cv2.resize(img, (IMG_SIZE, IMG_SIZE))/255.0\n",
    "    \n",
    "    X.append(img)\n",
    "    y.append(label)\n",
    "\n",
    "X = np.array(X)\n",
    "y = np.array(y)\n",
    "\n",
    "print(type(X), type(y), '\\n')\n",
    "print(X.shape, y.shape)"
   ]
  },
  {
   "cell_type": "code",
   "execution_count": 6,
   "metadata": {
    "execution": {
     "iopub.execute_input": "2020-09-08T02:42:06.347977Z",
     "iopub.status.busy": "2020-09-08T02:42:06.345729Z",
     "iopub.status.idle": "2020-09-08T02:42:06.481683Z",
     "shell.execute_reply": "2020-09-08T02:42:06.481091Z"
    },
    "papermill": {
     "duration": 0.166254,
     "end_time": "2020-09-08T02:42:06.481798",
     "exception": false,
     "start_time": "2020-09-08T02:42:06.315544",
     "status": "completed"
    },
    "tags": []
   },
   "outputs": [
    {
     "name": "stdout",
     "output_type": "stream",
     "text": [
      "     Labels\n",
      "0  COVID-19\n",
      "1  COVID-19\n",
      "2  COVID-19\n",
      "3  COVID-19\n",
      "4  COVID-19 \n",
      "\n",
      "Viral Pneumonia    1345\n",
      "NORMAL             1341\n",
      "COVID-19            219\n",
      "Name: Labels, dtype: int64\n"
     ]
    },
    {
     "data": {
      "image/png": "[encoded data removed]",
      "text/plain": [
       "<Figure size 432x288 with 1 Axes>"
      ]
     },
     "metadata": {
      "needs_background": "light"
     },
     "output_type": "display_data"
    }
   ],
   "source": [
    "#View counts of different labels\n",
    "y_df = pd.DataFrame(y, columns=['Labels'])\n",
    "print(y_df.head(), \"\\n\")\n",
    "print(y_df['Labels'].value_counts())\n",
    "\n",
    "sns.countplot(y_df['Labels'])\n",
    "plt.show()"
   ]
  },
  {
   "cell_type": "markdown",
   "execution_count": null,
   "metadata": {
    "papermill": {
     "duration": 0.009868,
     "end_time": "2020-09-08T02:42:06.503007",
     "exception": false,
     "start_time": "2020-09-08T02:42:06.493139",
     "status": "completed"
    },
    "tags": []
   },
   "source": [
    "Let's convert the label list to a one hot format."
   ]
  },
  {
   "cell_type": "code",
   "execution_count": 7,
   "metadata": {
    "execution": {
     "iopub.execute_input": "2020-09-08T02:42:06.528754Z",
     "iopub.status.busy": "2020-09-08T02:42:06.527417Z",
     "iopub.status.idle": "2020-09-08T02:42:06.531571Z",
     "shell.execute_reply": "2020-09-08T02:42:06.531022Z"
    },
    "papermill": {
     "duration": 0.018406,
     "end_time": "2020-09-08T02:42:06.531672",
     "exception": false,
     "start_time": "2020-09-08T02:42:06.513266",
     "status": "completed"
    },
    "tags": []
   },
   "outputs": [],
   "source": [
    "#Encode labels as integers\n",
    "le = LabelEncoder()\n",
    "y_encoded = le.fit_transform(y)\n",
    "#Convert list of labels to one-hot format\n",
    "y_encoded = np_utils.to_categorical(y_encoded)"
   ]
  },
  {
   "cell_type": "code",
   "execution_count": 8,
   "metadata": {
    "execution": {
     "iopub.execute_input": "2020-09-08T02:42:06.560456Z",
     "iopub.status.busy": "2020-09-08T02:42:06.559311Z",
     "iopub.status.idle": "2020-09-08T02:42:06.566109Z",
     "shell.execute_reply": "2020-09-08T02:42:06.566982Z"
    },
    "papermill": {
     "duration": 0.024989,
     "end_time": "2020-09-08T02:42:06.567134",
     "exception": false,
     "start_time": "2020-09-08T02:42:06.542145",
     "status": "completed"
    },
    "tags": []
   },
   "outputs": [
    {
     "name": "stdout",
     "output_type": "stream",
     "text": [
      "[[1. 0. 0.]\n",
      " [1. 0. 0.]\n",
      " [1. 0. 0.]\n",
      " ...\n",
      " [0. 0. 1.]\n",
      " [0. 0. 1.]\n",
      " [0. 0. 1.]] \n",
      "\n",
      "[1. 0. 0.] \n",
      "\n",
      "<class 'numpy.ndarray'> \n",
      "\n",
      "['COVID-19' 'NORMAL' 'Viral Pneumonia'] \n",
      "\n"
     ]
    }
   ],
   "source": [
    "#Check properties of label array\n",
    "print(y_encoded, '\\n')\n",
    "print(y_encoded[0], '\\n')\n",
    "print(type(y_encoded), '\\n')\n",
    "print(le.classes_, '\\n')"
   ]
  },
  {
   "cell_type": "code",
   "execution_count": 9,
   "metadata": {
    "execution": {
     "iopub.execute_input": "2020-09-08T02:42:06.597216Z",
     "iopub.status.busy": "2020-09-08T02:42:06.596363Z",
     "iopub.status.idle": "2020-09-08T02:42:07.363362Z",
     "shell.execute_reply": "2020-09-08T02:42:07.363843Z"
    },
    "papermill": {
     "duration": 0.786328,
     "end_time": "2020-09-08T02:42:07.363985",
     "exception": false,
     "start_time": "2020-09-08T02:42:06.577657",
     "status": "completed"
    },
    "tags": []
   },
   "outputs": [
    {
     "name": "stdout",
     "output_type": "stream",
     "text": [
      "(2178, 224, 224, 3)\n",
      "(2178, 3)\n",
      "(727, 224, 224, 3)\n",
      "(727, 3)\n"
     ]
    }
   ],
   "source": [
    "#Generate training and testing subsets\n",
    "X_train, X_test, y_train, y_test = train_test_split(X, y_encoded, test_size=0.25, stratify=y_encoded, random_state=3)\n",
    "\n",
    "print(X_train.shape)\n",
    "print(y_train.shape)\n",
    "print(X_test.shape)\n",
    "print(y_test.shape)\n",
    "\n",
    "train_aug = ImageDataGenerator(rotation_range=15)"
   ]
  },
  {
   "cell_type": "markdown",
   "execution_count": null,
   "metadata": {
    "papermill": {
     "duration": 0.010251,
     "end_time": "2020-09-08T02:42:07.384861",
     "exception": false,
     "start_time": "2020-09-08T02:42:07.374610",
     "status": "completed"
    },
    "tags": []
   },
   "source": [
    "Use the following code to design your model. In this tutorial we will focus primarily on transfer learning, although code is also provided to create your own model."
   ]
  },
  {
   "cell_type": "code",
   "execution_count": 10,
   "metadata": {
    "execution": {
     "iopub.execute_input": "2020-09-08T02:42:07.419801Z",
     "iopub.status.busy": "2020-09-08T02:42:07.413095Z",
     "iopub.status.idle": "2020-09-08T02:42:07.423368Z",
     "shell.execute_reply": "2020-09-08T02:42:07.422778Z"
    },
    "papermill": {
     "duration": 0.028292,
     "end_time": "2020-09-08T02:42:07.423483",
     "exception": false,
     "start_time": "2020-09-08T02:42:07.395191",
     "status": "completed"
    },
    "tags": []
   },
   "outputs": [],
   "source": [
    "#Code to create custom model is provided for convenience\n",
    "\n",
    "def my_model():\n",
    "    model = Sequential()\n",
    "    \n",
    "    model.add(Conv2D(32, kernel_size=(3,3), padding='same', activation='relu', input_shape=(IMG_SIZE, IMG_SIZE, 3)))\n",
    "    model.add(MaxPooling2D((2, 2), padding='same'))\n",
    "    model.add(Conv2D(64, kernel_size=(3,3), padding='same', activation='relu'))\n",
    "    model.add(MaxPooling2D((2, 2), padding='same'))\n",
    "    model.add(Conv2D(128, kernel_size=(3,3), padding='same', activation='relu'))\n",
    "    model.add(MaxPooling2D((2, 2), padding='same'))\n",
    "    model.add(Conv2D(256, kernel_size=(3,3), padding='same', activation='relu'))\n",
    "    model.add(MaxPooling2D((2, 2), padding='same'))\n",
    "    model.add(Conv2D(512, kernel_size=(3,3), padding='same', activation='relu'))\n",
    "    model.add(MaxPooling2D((2, 2), padding='same'))\n",
    "    model.add(Flatten())\n",
    "    model.add(Dropout(0.25))\n",
    "    model.add(Dense(512, activation='relu'))\n",
    "    model.add(Dropout(0.25))\n",
    "    model.add(Dense(64, activation='relu'))\n",
    "    model.add(Dense(3, activation='sigmoid'))\n",
    "\n",
    "    return model"
   ]
  },
  {
   "cell_type": "markdown",
   "execution_count": null,
   "metadata": {
    "papermill": {
     "duration": 0.009943,
     "end_time": "2020-09-08T02:42:07.443763",
     "exception": false,
     "start_time": "2020-09-08T02:42:07.433820",
     "status": "completed"
    },
    "tags": []
   },
   "source": [
    "Code for transfer learning model. Each pre-trained model is loaded by a separate function and then added to sequential model with FC layers to produce final classification."
   ]
  },
  {
   "cell_type": "code",
   "execution_count": 11,
   "metadata": {
    "execution": {
     "iopub.execute_input": "2020-09-08T02:42:07.470722Z",
     "iopub.status.busy": "2020-09-08T02:42:07.469922Z",
     "iopub.status.idle": "2020-09-08T02:42:07.473663Z",
     "shell.execute_reply": "2020-09-08T02:42:07.473171Z"
    },
    "papermill": {
     "duration": 0.019775,
     "end_time": "2020-09-08T02:42:07.473791",
     "exception": false,
     "start_time": "2020-09-08T02:42:07.454016",
     "status": "completed"
    },
    "tags": []
   },
   "outputs": [],
   "source": [
    "#Transfer learning with VGG16\n",
    "\n",
    "def VGG16_model():\n",
    "    base_model = VGG16(include_top=False, weights='imagenet', input_shape=(IMG_SIZE, IMG_SIZE, 3))\n",
    "    \n",
    "    output = base_model.layers[-1].output\n",
    "    output = Flatten()(output)\n",
    "    \n",
    "    model = Model(base_model.input, outputs=output)\n",
    "    \n",
    "    for layer in model.layers:\n",
    "        layer.trainable = False\n",
    "    \n",
    "    return model"
   ]
  },
  {
   "cell_type": "code",
   "execution_count": 12,
   "metadata": {
    "execution": {
     "iopub.execute_input": "2020-09-08T02:42:07.501325Z",
     "iopub.status.busy": "2020-09-08T02:42:07.500639Z",
     "iopub.status.idle": "2020-09-08T02:42:07.504717Z",
     "shell.execute_reply": "2020-09-08T02:42:07.505172Z"
    },
    "papermill": {
     "duration": 0.020843,
     "end_time": "2020-09-08T02:42:07.505283",
     "exception": false,
     "start_time": "2020-09-08T02:42:07.484440",
     "status": "completed"
    },
    "tags": []
   },
   "outputs": [],
   "source": [
    "#Transfer learning with ResNet101\n",
    "\n",
    "def ResNet101_model():\n",
    "    base_model = ResNet101(include_top=False, weights='imagenet', input_shape=(IMG_SIZE, IMG_SIZE, 3))\n",
    "    \n",
    "    output = base_model.layers[-1].output\n",
    "    output = Flatten()(output)\n",
    "    \n",
    "    model = Model(base_model.input, outputs=output)\n",
    "    \n",
    "    for layer in model.layers:\n",
    "        layer.trainable = False\n",
    "    \n",
    "    return model"
   ]
  },
  {
   "cell_type": "code",
   "execution_count": 13,
   "metadata": {
    "execution": {
     "iopub.execute_input": "2020-09-08T02:42:07.534231Z",
     "iopub.status.busy": "2020-09-08T02:42:07.532558Z",
     "iopub.status.idle": "2020-09-08T02:42:07.534886Z",
     "shell.execute_reply": "2020-09-08T02:42:07.535361Z"
    },
    "papermill": {
     "duration": 0.01964,
     "end_time": "2020-09-08T02:42:07.535473",
     "exception": false,
     "start_time": "2020-09-08T02:42:07.515833",
     "status": "completed"
    },
    "tags": []
   },
   "outputs": [],
   "source": [
    "#Transfer learning with Xception\n",
    "\n",
    "def Xception_model():\n",
    "    base_model = Xception(include_top=False, weights='imagenet', input_shape=(IMG_SIZE, IMG_SIZE, 3))\n",
    "    \n",
    "    output = base_model.layers[-1].output\n",
    "    output = Flatten()(output)\n",
    "    \n",
    "    model = Model(base_model.input, outputs=output)\n",
    "    \n",
    "    for layer in model.layers:\n",
    "        layer.trainable = False\n",
    "    \n",
    "    return model"
   ]
  },
  {
   "cell_type": "code",
   "execution_count": 14,
   "metadata": {
    "execution": {
     "iopub.execute_input": "2020-09-08T02:42:07.562778Z",
     "iopub.status.busy": "2020-09-08T02:42:07.562121Z",
     "iopub.status.idle": "2020-09-08T02:42:12.934457Z",
     "shell.execute_reply": "2020-09-08T02:42:12.933856Z"
    },
    "papermill": {
     "duration": 5.388873,
     "end_time": "2020-09-08T02:42:12.934586",
     "exception": false,
     "start_time": "2020-09-08T02:42:07.545713",
     "status": "completed"
    },
    "tags": []
   },
   "outputs": [
    {
     "name": "stdout",
     "output_type": "stream",
     "text": [
      "Downloading data from https://storage.googleapis.com/tensorflow/keras-applications/vgg16/vgg16_weights_tf_dim_ordering_tf_kernels_notop.h5\n",
      "58892288/58889256 [==============================] - 1s 0us/step\n",
      "Model: \"sequential\"\n",
      "_________________________________________________________________\n",
      "Layer (type)                 Output Shape              Param #   \n",
      "=================================================================\n",
      "model (Model)                (None, 25088)             14714688  \n",
      "_________________________________________________________________\n",
      "dropout (Dropout)            (None, 25088)             0         \n",
      "_________________________________________________________________\n",
      "dense (Dense)                (None, 512)               12845568  \n",
      "_________________________________________________________________\n",
      "dropout_1 (Dropout)          (None, 512)               0         \n",
      "_________________________________________________________________\n",
      "dense_1 (Dense)              (None, 64)                32832     \n",
      "_________________________________________________________________\n",
      "dense_2 (Dense)              (None, 3)                 195       \n",
      "=================================================================\n",
      "Total params: 27,593,283\n",
      "Trainable params: 12,878,595\n",
      "Non-trainable params: 14,714,688\n",
      "_________________________________________________________________\n"
     ]
    }
   ],
   "source": [
    "covid_model = Sequential()\n",
    "covid_model.add(VGG16_model()) #Change to ResNet or Xception as preferred\n",
    "covid_model.add(Dropout(0.25))\n",
    "covid_model.add(Dense(512, activation='relu'))\n",
    "covid_model.add(Dropout(0.25))\n",
    "covid_model.add(Dense(64, activation='relu'))\n",
    "covid_model.add(Dense(3, activation='sigmoid'))\n",
    "\n",
    "covid_model.summary()"
   ]
  },
  {
   "cell_type": "code",
   "execution_count": 15,
   "metadata": {
    "execution": {
     "iopub.execute_input": "2020-09-08T02:42:12.970645Z",
     "iopub.status.busy": "2020-09-08T02:42:12.964924Z",
     "iopub.status.idle": "2020-09-08T02:45:34.428848Z",
     "shell.execute_reply": "2020-09-08T02:45:34.429417Z"
    },
    "papermill": {
     "duration": 201.483564,
     "end_time": "2020-09-08T02:45:34.429592",
     "exception": false,
     "start_time": "2020-09-08T02:42:12.946028",
     "status": "completed"
    },
    "tags": []
   },
   "outputs": [
    {
     "name": "stdout",
     "output_type": "stream",
     "text": [
      "Epoch 1/7\n",
      "68/68 [==============================] - 29s 429ms/step - loss: 0.4526 - accuracy: 0.7992 - val_loss: 0.2524 - val_accuracy: 0.8693\n",
      "Epoch 2/7\n",
      "68/68 [==============================] - 27s 402ms/step - loss: 0.2456 - accuracy: 0.8733 - val_loss: 0.1860 - val_accuracy: 0.9147\n",
      "Epoch 3/7\n",
      "68/68 [==============================] - 27s 398ms/step - loss: 0.1783 - accuracy: 0.9292 - val_loss: 0.1397 - val_accuracy: 0.9505\n",
      "Epoch 4/7\n",
      "68/68 [==============================] - 27s 397ms/step - loss: 0.1522 - accuracy: 0.9483 - val_loss: 0.1241 - val_accuracy: 0.9560\n",
      "Epoch 5/7\n",
      "68/68 [==============================] - 26s 386ms/step - loss: 0.1269 - accuracy: 0.9497 - val_loss: 0.1117 - val_accuracy: 0.9546\n",
      "Epoch 6/7\n",
      "68/68 [==============================] - 28s 408ms/step - loss: 0.1108 - accuracy: 0.9623 - val_loss: 0.1506 - val_accuracy: 0.9505\n",
      "Epoch 7/7\n",
      "68/68 [==============================] - 27s 397ms/step - loss: 0.0834 - accuracy: 0.9716 - val_loss: 0.0926 - val_accuracy: 0.9615\n"
     ]
    }
   ],
   "source": [
    "optim = Adam(lr = LR, decay = LR/EPOCHS)\n",
    "\n",
    "covid_model.compile(loss='categorical_crossentropy', optimizer=optim, metrics=['accuracy'])\n",
    "\n",
    "history = covid_model.fit_generator(train_aug.flow(X_train, y_train, batch_size=BATCH_SIZE),\n",
    "                                    steps_per_epoch=len(X_train)//BATCH_SIZE,\n",
    "                                    validation_data=(X_test, y_test),\n",
    "                                    validation_steps=len(X_test)//BATCH_SIZE,\n",
    "                                    epochs=EPOCHS,\n",
    "                                    verbose=1)"
   ]
  },
  {
   "cell_type": "markdown",
   "execution_count": null,
   "metadata": {
    "papermill": {
     "duration": 0.039073,
     "end_time": "2020-09-08T02:45:34.508385",
     "exception": false,
     "start_time": "2020-09-08T02:45:34.469312",
     "status": "completed"
    },
    "tags": []
   },
   "source": [
    "Analyzing the training and validation statistics for our model."
   ]
  },
  {
   "cell_type": "code",
   "execution_count": 16,
   "metadata": {
    "execution": {
     "iopub.execute_input": "2020-09-08T02:45:34.593466Z",
     "iopub.status.busy": "2020-09-08T02:45:34.591968Z",
     "iopub.status.idle": "2020-09-08T02:45:34.596455Z",
     "shell.execute_reply": "2020-09-08T02:45:34.595556Z"
    },
    "papermill": {
     "duration": 0.049715,
     "end_time": "2020-09-08T02:45:34.596598",
     "exception": false,
     "start_time": "2020-09-08T02:45:34.546883",
     "status": "completed"
    },
    "tags": []
   },
   "outputs": [
    {
     "name": "stdout",
     "output_type": "stream",
     "text": [
      "dict_keys(['loss', 'accuracy', 'val_loss', 'val_accuracy'])\n"
     ]
    }
   ],
   "source": [
    "print(history.history.keys())"
   ]
  },
  {
   "cell_type": "code",
   "execution_count": 17,
   "metadata": {
    "execution": {
     "iopub.execute_input": "2020-09-08T02:45:34.688634Z",
     "iopub.status.busy": "2020-09-08T02:45:34.687230Z",
     "iopub.status.idle": "2020-09-08T02:45:34.925664Z",
     "shell.execute_reply": "2020-09-08T02:45:34.925091Z"
    },
    "papermill": {
     "duration": 0.290111,
     "end_time": "2020-09-08T02:45:34.925798",
     "exception": false,
     "start_time": "2020-09-08T02:45:34.635687",
     "status": "completed"
    },
    "tags": []
   },
   "outputs": [
    {
     "data": {
      "image/png": "[encoded data removed]",
      "text/plain": [
       "<Figure size 432x288 with 1 Axes>"
      ]
     },
     "metadata": {
      "needs_background": "light"
     },
     "output_type": "display_data"
    }
   ],
   "source": [
    "#Accuracy plot\n",
    "plt.plot(history.history['accuracy'])\n",
    "plt.plot(history.history['val_accuracy'])\n",
    "plt.title('Model Accuracy')\n",
    "plt.ylabel('Accuracy')\n",
    "plt.xlabel('Epoch')\n",
    "plt.legend(['train', 'test'], loc='upper left')\n",
    "plt.show()"
   ]
  },
  {
   "cell_type": "code",
   "execution_count": 18,
   "metadata": {
    "execution": {
     "iopub.execute_input": "2020-09-08T02:45:35.015228Z",
     "iopub.status.busy": "2020-09-08T02:45:35.014081Z",
     "iopub.status.idle": "2020-09-08T02:45:35.194209Z",
     "shell.execute_reply": "2020-09-08T02:45:35.194758Z"
    },
    "papermill": {
     "duration": 0.229379,
     "end_time": "2020-09-08T02:45:35.194920",
     "exception": false,
     "start_time": "2020-09-08T02:45:34.965541",
     "status": "completed"
    },
    "tags": []
   },
   "outputs": [
    {
     "data": {
      "image/png": "[encoded data removed]",
      "text/plain": [
       "<Figure size 432x288 with 1 Axes>"
      ]
     },
     "metadata": {
      "needs_background": "light"
     },
     "output_type": "display_data"
    }
   ],
   "source": [
    "#Loss plot\n",
    "plt.plot(history.history['loss'])\n",
    "plt.plot(history.history['val_loss'])\n",
    "plt.title('Model Loss')\n",
    "plt.ylabel('Loss')\n",
    "plt.xlabel('Epoch')\n",
    "plt.legend(['train', 'test'], loc='upper left')\n",
    "plt.show()"
   ]
  },
  {
   "cell_type": "markdown",
   "execution_count": null,
   "metadata": {
    "papermill": {
     "duration": 0.039999,
     "end_time": "2020-09-08T02:45:35.274634",
     "exception": false,
     "start_time": "2020-09-08T02:45:35.234635",
     "status": "completed"
    },
    "tags": []
   },
   "source": [
    "We did not set aside a separate testing dataset, so we will use the validation dataset for illustration purposes. Keep in mind that the validation dataset in this case is not a good evaluation of the accuracy of the model because it is data that the model has already seen."
   ]
  },
  {
   "cell_type": "code",
   "execution_count": 19,
   "metadata": {
    "execution": {
     "iopub.execute_input": "2020-09-08T02:45:35.359055Z",
     "iopub.status.busy": "2020-09-08T02:45:35.357856Z",
     "iopub.status.idle": "2020-09-08T02:45:38.311733Z",
     "shell.execute_reply": "2020-09-08T02:45:38.312594Z"
    },
    "papermill": {
     "duration": 2.999478,
     "end_time": "2020-09-08T02:45:38.312765",
     "exception": false,
     "start_time": "2020-09-08T02:45:35.313287",
     "status": "completed"
    },
    "tags": []
   },
   "outputs": [
    {
     "name": "stdout",
     "output_type": "stream",
     "text": [
      "23/23 [==============================] - 2s 102ms/step - loss: 0.0926 - accuracy: 0.9615\n",
      "Model accuracy on validation dataset: 96.148556.\n"
     ]
    }
   ],
   "source": [
    "score = covid_model.evaluate(X_test, y_test)\n",
    "print(\"Model accuracy on validation dataset: %f.\" %(score[1]*100))"
   ]
  },
  {
   "cell_type": "code",
   "execution_count": 20,
   "metadata": {
    "execution": {
     "iopub.execute_input": "2020-09-08T02:45:38.405224Z",
     "iopub.status.busy": "2020-09-08T02:45:38.403715Z",
     "iopub.status.idle": "2020-09-08T02:45:40.896992Z",
     "shell.execute_reply": "2020-09-08T02:45:40.897609Z"
    },
    "papermill": {
     "duration": 2.542611,
     "end_time": "2020-09-08T02:45:40.897813",
     "exception": false,
     "start_time": "2020-09-08T02:45:38.355202",
     "status": "completed"
    },
    "tags": []
   },
   "outputs": [
    {
     "name": "stdout",
     "output_type": "stream",
     "text": [
      "[2 2 1 2 1 2 2 2 1 1 1 2 2 1 0 2 1 0 2 2 2 1 1 2 2 0 2 1 2 1 2 1 1 0 1 1 1\n",
      " 1 2 0 2 1 1 2 2 1 1 2 1 2 2 2 1 1 2 2 2 1 0 1 2 2 2 1 1 0 2 2 1 1 2 1 2 2\n",
      " 2 1 2 2 2 1 2 2 2 1 2 1 2 2 1 2 1 1 2 2 1 2 2 2 2 1 1 1 1 2 2 2 1 2 1 2 1\n",
      " 1 1 1 1 2 2 1 0 1 2 2 2 2 1 1 1 1 2 2 1 1 1 0 2 1 1 2 1 2 2 2 2 1 2 2 2 1\n",
      " 1 2 1 1 1 2 1 1 2 2 0 2 2 2 0 0 2 2 2 2 1 1 2 2 2 1 1 2 0 1 2 2 1 2 1 2 1\n",
      " 2 1 1 2 2 2 2 0 1 0 2 1 1 2 2 1 1 1 2 2 1 1 2 2 0 2 0 2 2 2 2 1 2 1 2 2 1\n",
      " 2 1 2 2 0 2 2 1 1 2 1 1 2 0 0 2 2 1 1 2 1 1 1 1 2 2 2 2 1 1 0 2 2 1 1 1 2\n",
      " 1 1 1 2 1 2 1 2 1 1 2 1 2 1 2 2 1 1 2 1 1 1 2 2 1 1 2 1 2 2 1 0 1 1 2 2 0\n",
      " 2 2 0 1 1 2 2 2 2 2 2 1 2 1 1 2 2 1 2 2 2 2 2 2 2 1 2 1 1 2 2 2 1 2 1 0 2\n",
      " 2 1 2 2 2 0 2 1 1 2 2 1 1 1 1 1 0 2 0 1 2 1 1 1 1 2 2 1 2 2 1 1 0 1 2 2 2\n",
      " 1 1 2 2 2 2 1 1 1 2 0 1 2 1 2 1 1 2 1 1 1 2 2 0 1 1 1 2 1 2 1 1 2 1 0 1 1\n",
      " 2 2 2 2 2 1 1 2 1 1 1 2 2 1 1 1 2 1 1 1 2 2 1 1 1 2 1 1 1 2 2 2 2 2 1 1 1\n",
      " 1 2 1 2 2 0 2 2 1 1 1 2 1 1 2 1 2 1 2 2 1 2 2 2 2 1 2 1 1 1 2 1 2 1 1 2 1\n",
      " 1 2 1 2 2 2 2 2 2 2 1 1 2 2 0 1 2 2 1 2 0 2 1 1 1 2 1 2 1 0 1 0 1 1 1 1 1\n",
      " 1 2 1 1 2 1 1 0 2 1 2 2 2 1 1 1 1 2 0 0 1 2 2 1 2 2 1 1 0 0 2 2 2 2 2 2 0\n",
      " 1 2 2 2 2 2 1 1 1 1 2 1 1 2 1 1 1 1 2 2 1 1 2 2 2 1 0 0 2 1 2 1 2 1 2 2 2\n",
      " 1 1 1 0 1 1 2 1 2 2 1 1 1 1 1 2 2 0 1 2 2 1 1 0 0 2 1 2 2 1 1 2 0 2 2 1 2\n",
      " 2 0 2 2 2 1 2 2 2 2 0 1 2 1 1 2 2 2 1 1 1 2 2 1 2 1 2 2 1 1 1 1 2 0 1 1 1\n",
      " 2 1 1 1 1 1 1 2 1 1 1 2 1 1 1 1 1 1 2 2 1 2 1 2 1 1 0 1 1 2 2 2 2 2 1 1 2\n",
      " 1 1 1 1 0 2 2 1 2 2 2 2 1 1 1 2 1 2 2 2 1 2 1 2]\n",
      "727\n",
      "['COVID-19' 'NORMAL' 'Viral Pneumonia']\n"
     ]
    }
   ],
   "source": [
    "y_pred = np.argmax(covid_model.predict(X_test), axis=1)\n",
    "print(y_pred)\n",
    "print(len(y_pred))\n",
    "print(le.classes_)"
   ]
  },
  {
   "cell_type": "code",
   "execution_count": 21,
   "metadata": {
    "execution": {
     "iopub.execute_input": "2020-09-08T02:45:40.990372Z",
     "iopub.status.busy": "2020-09-08T02:45:40.989410Z",
     "iopub.status.idle": "2020-09-08T02:45:40.994426Z",
     "shell.execute_reply": "2020-09-08T02:45:40.995159Z"
    },
    "papermill": {
     "duration": 0.054551,
     "end_time": "2020-09-08T02:45:40.995338",
     "exception": false,
     "start_time": "2020-09-08T02:45:40.940787",
     "status": "completed"
    },
    "tags": []
   },
   "outputs": [
    {
     "name": "stdout",
     "output_type": "stream",
     "text": [
      "[2 2 1 2 1 2 1 2 1 1 1 2 2 1 0 2 1 0 2 2 2 1 1 1 2 0 2 1 2 1 2 1 1 0 1 1 1\n",
      " 0 2 2 2 1 1 2 2 1 1 2 1 2 2 2 1 1 1 2 2 1 0 1 2 2 2 1 1 0 0 2 1 1 2 1 2 2\n",
      " 2 1 2 2 2 1 2 2 2 1 2 1 2 2 1 2 1 1 2 2 1 2 2 2 2 1 1 1 1 2 2 2 1 2 1 2 1\n",
      " 1 1 1 1 2 2 1 2 1 2 2 2 2 1 1 1 1 2 2 1 1 1 0 2 1 1 2 1 2 2 2 2 1 2 2 2 1\n",
      " 1 2 1 1 1 2 1 1 2 2 0 2 2 2 0 0 2 2 2 2 1 1 2 2 2 1 1 2 0 1 2 2 1 2 1 2 1\n",
      " 2 1 1 2 2 2 2 0 1 0 2 1 1 2 2 1 1 1 2 2 1 1 2 2 0 2 0 2 2 2 2 1 2 1 2 2 1\n",
      " 2 1 2 2 0 2 2 1 1 2 1 1 2 0 0 1 2 1 1 2 1 1 1 1 2 2 2 2 1 1 0 2 2 1 1 1 2\n",
      " 1 1 1 2 1 2 1 2 1 1 2 1 2 1 2 2 1 1 2 1 1 1 2 2 1 1 2 1 2 2 1 0 1 1 2 2 0\n",
      " 2 2 0 1 1 2 2 2 2 2 2 1 2 1 1 2 2 1 2 2 2 2 2 2 2 1 0 1 1 2 2 2 1 2 1 0 2\n",
      " 1 1 2 1 2 0 2 1 1 2 2 1 1 1 1 1 0 2 0 1 2 1 1 1 1 2 2 1 2 2 1 1 0 1 2 2 2\n",
      " 1 1 2 2 2 2 1 1 1 2 0 1 2 1 2 1 1 2 1 1 1 2 2 0 1 1 1 2 1 2 1 1 1 1 0 1 1\n",
      " 2 2 2 2 2 1 1 2 1 1 1 2 2 1 1 1 2 1 2 1 2 2 1 2 1 2 1 1 1 2 2 2 2 2 2 1 1\n",
      " 1 2 1 2 2 0 2 2 1 1 1 2 1 1 2 1 1 1 2 2 1 2 2 2 2 1 2 1 1 1 2 1 2 1 1 2 1\n",
      " 1 2 1 2 2 2 2 2 2 2 1 1 2 2 0 1 2 2 1 2 0 2 1 1 1 2 1 2 1 0 1 0 1 1 1 1 1\n",
      " 2 2 1 1 2 1 2 0 1 1 2 1 2 1 1 1 1 2 0 0 1 2 2 1 2 1 2 1 0 0 2 2 2 2 2 2 0\n",
      " 1 2 2 2 1 2 1 1 1 1 2 1 1 1 1 1 1 1 2 2 1 1 2 2 2 1 0 0 2 1 2 1 2 1 2 2 2\n",
      " 1 1 1 0 1 1 2 1 2 2 1 1 1 1 1 2 2 0 1 2 2 1 1 0 0 2 1 2 2 1 1 2 2 2 2 1 2\n",
      " 2 0 2 2 2 1 2 2 2 2 0 1 2 1 1 2 2 2 1 1 1 2 2 1 2 1 1 2 1 1 1 1 2 0 1 1 1\n",
      " 2 1 1 1 1 1 1 2 1 1 1 2 1 1 1 1 1 1 2 2 1 2 1 2 1 1 0 1 1 2 2 2 2 2 1 1 2\n",
      " 2 1 1 1 0 2 2 1 2 2 2 2 1 1 1 2 1 2 2 2 2 2 1 2]\n",
      "727\n"
     ]
    }
   ],
   "source": [
    "y_test_labels = np.argmax(y_test, axis=1)\n",
    "print(y_test_labels)\n",
    "print(len(y_test_labels))"
   ]
  },
  {
   "cell_type": "markdown",
   "execution_count": null,
   "metadata": {
    "papermill": {
     "duration": 0.042803,
     "end_time": "2020-09-08T02:45:41.081931",
     "exception": false,
     "start_time": "2020-09-08T02:45:41.039128",
     "status": "completed"
    },
    "tags": []
   },
   "source": [
    "We will use a confusion matrix to better visualize our predicted vs true values for the validation data."
   ]
  },
  {
   "cell_type": "code",
   "execution_count": 22,
   "metadata": {
    "execution": {
     "iopub.execute_input": "2020-09-08T02:45:41.214544Z",
     "iopub.status.busy": "2020-09-08T02:45:41.213423Z",
     "iopub.status.idle": "2020-09-08T02:45:41.239397Z",
     "shell.execute_reply": "2020-09-08T02:45:41.239931Z"
    },
    "papermill": {
     "duration": 0.115334,
     "end_time": "2020-09-08T02:45:41.240094",
     "exception": false,
     "start_time": "2020-09-08T02:45:41.124760",
     "status": "completed"
    },
    "tags": []
   },
   "outputs": [
    {
     "name": "stdout",
     "output_type": "stream",
     "text": [
      "[[ 52   1   2]\n",
      " [  0 321  14]\n",
      " [  3   8 326]]\n"
     ]
    },
    {
     "data": {
      "text/html": [
       "<div>\n",
       "<style scoped>\n",
       "    .dataframe tbody tr th:only-of-type {\n",
       "        vertical-align: middle;\n",
       "    }\n",
       "\n",
       "    .dataframe tbody tr th {\n",
       "        vertical-align: top;\n",
       "    }\n",
       "\n",
       "    .dataframe thead th {\n",
       "        text-align: right;\n",
       "    }\n",
       "</style>\n",
       "<table border=\"1\" class=\"dataframe\">\n",
       "  <thead>\n",
       "    <tr style=\"text-align: right;\">\n",
       "      <th></th>\n",
       "      <th>COVID-19</th>\n",
       "      <th>NORMAL</th>\n",
       "      <th>Viral Pneumonia</th>\n",
       "    </tr>\n",
       "  </thead>\n",
       "  <tbody>\n",
       "    <tr>\n",
       "      <th>COVID-19</th>\n",
       "      <td>52</td>\n",
       "      <td>1</td>\n",
       "      <td>2</td>\n",
       "    </tr>\n",
       "    <tr>\n",
       "      <th>NORMAL</th>\n",
       "      <td>0</td>\n",
       "      <td>321</td>\n",
       "      <td>14</td>\n",
       "    </tr>\n",
       "    <tr>\n",
       "      <th>Viral Pneumonia</th>\n",
       "      <td>3</td>\n",
       "      <td>8</td>\n",
       "      <td>326</td>\n",
       "    </tr>\n",
       "  </tbody>\n",
       "</table>\n",
       "</div>"
      ],
      "text/plain": [
       "                 COVID-19  NORMAL  Viral Pneumonia\n",
       "COVID-19               52       1                2\n",
       "NORMAL                  0     321               14\n",
       "Viral Pneumonia         3       8              326"
      ]
     },
     "execution_count": 22,
     "metadata": {},
     "output_type": "execute_result"
    }
   ],
   "source": [
    "#Confusion matrix\n",
    "cm = confusion_matrix(y_test_labels, y_pred)\n",
    "print(cm)\n",
    "cm_df = pd.DataFrame(cm, index=le.classes_, columns=le.classes_)\n",
    "cm_df.head()"
   ]
  },
  {
   "cell_type": "code",
   "execution_count": 23,
   "metadata": {
    "execution": {
     "iopub.execute_input": "2020-09-08T02:45:41.334779Z",
     "iopub.status.busy": "2020-09-08T02:45:41.333787Z",
     "iopub.status.idle": "2020-09-08T02:45:41.862498Z",
     "shell.execute_reply": "2020-09-08T02:45:41.863665Z"
    },
    "papermill": {
     "duration": 0.581207,
     "end_time": "2020-09-08T02:45:41.863869",
     "exception": false,
     "start_time": "2020-09-08T02:45:41.282662",
     "status": "completed"
    },
    "tags": []
   },
   "outputs": [
    {
     "data": {
      "image/png": "[encoded data removed]",
      "text/plain": [
       "<Figure size 432x288 with 2 Axes>"
      ]
     },
     "metadata": {},
     "output_type": "display_data"
    }
   ],
   "source": [
    "sns.set(font_scale=1.5, color_codes=True, palette='deep')\n",
    "sns.heatmap(cm_df, annot=True, annot_kws={'size':16}, fmt='d', cmap='YlGnBu')\n",
    "plt.ylabel(\"True Label\")\n",
    "plt.xlabel(\"Predicted Label\")\n",
    "plt.title('Confusion Matrix of Validation Data')\n",
    "plt.show()"
   ]
  },
  {
   "cell_type": "markdown",
   "execution_count": null,
   "metadata": {
    "papermill": {
     "duration": 0.067738,
     "end_time": "2020-09-08T02:45:42.000453",
     "exception": false,
     "start_time": "2020-09-08T02:45:41.932715",
     "status": "completed"
    },
    "tags": []
   },
   "source": [
    "Save model weights for future use."
   ]
  },
  {
   "cell_type": "code",
   "execution_count": 24,
   "metadata": {
    "execution": {
     "iopub.execute_input": "2020-09-08T02:45:42.153382Z",
     "iopub.status.busy": "2020-09-08T02:45:42.152344Z",
     "iopub.status.idle": "2020-09-08T02:45:45.128921Z",
     "shell.execute_reply": "2020-09-08T02:45:45.128058Z"
    },
    "papermill": {
     "duration": 3.055662,
     "end_time": "2020-09-08T02:45:45.129109",
     "exception": false,
     "start_time": "2020-09-08T02:45:42.073447",
     "status": "completed"
    },
    "tags": []
   },
   "outputs": [],
   "source": [
    "covid_model.save('covid_model_v1')"
   ]
  },
  {
   "cell_type": "markdown",
   "execution_count": null,
   "metadata": {
    "papermill": {
     "duration": 0.041792,
     "end_time": "2020-09-08T02:45:45.217807",
     "exception": false,
     "start_time": "2020-09-08T02:45:45.176015",
     "status": "completed"
    },
    "tags": []
   },
   "source": [
    "A few summary and learning points.\n",
    "\n",
    "* This model appears to have high specificity for COVID-19. That is, if the model predicts COVID-19, there is actually a 100% chance that it is COVID-19. Another way to phrase this is that if the image is not COVID-19, there is a 100% chance that the model will predict it is not COVID-19.\n",
    "* Theoretically speaking, if such a model were to be implemented in a clinical setting, it may be helpful in that if it gives a prediction of COVID-19 to a chest X-ray, special attention should be paid to the image as there's a good chance it may represent an actual case of COVID-19.\n",
    "* The prevalence of COVID-19 in a particular patient population is important for designing a good training set, but it is very difficult to determine. \n",
    "* COVID-19 images may be misinterpreted as viral pneumonia, which makes sense. However, no viral pneumonia images are mislabeled as COVID-19."
   ]
  },
  {
   "cell_type": "markdown",
   "execution_count": null,
   "metadata": {
    "papermill": {
     "duration": 0.051703,
     "end_time": "2020-09-08T02:45:45.326663",
     "exception": false,
     "start_time": "2020-09-08T02:45:45.274960",
     "status": "completed"
    },
    "tags": []
   },
   "source": [
    "Thank you for checking out this notebook. Check out my [Twitter](https://twitter.com/leoyuguanall38) and [GitHub profile](https://github.com/leoyuguanall38) if you like what you see here."
   ]
  }
 ],
 "metadata": {
  "kernelspec": {
   "display_name": "Python 3",
   "language": "python",
   "name": "python3"
  },
  "language_info": {
   "codemirror_mode": {
    "name": "ipython",
    "version": 3
   },
   "file_extension": ".py",
   "mimetype": "text/x-python",
   "name": "python",
   "nbconvert_exporter": "python",
   "pygments_lexer": "ipython3",
   "version": "3.7.6"
  },
  "papermill": {
   "duration": 295.908483,
   "end_time": "2020-09-08T02:45:47.028618",
   "environment_variables": {},
   "exception": null,
   "input_path": "__notebook__.ipynb",
   "output_path": "__notebook__.ipynb",
   "parameters": {},
   "start_time": "2020-09-08T02:40:51.120135",
   "version": "2.1.0"
  }
 },
 "nbformat": 4,
 "nbformat_minor": 4
}
